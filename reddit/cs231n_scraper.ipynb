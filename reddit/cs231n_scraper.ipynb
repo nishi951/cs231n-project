{
 "cells": [
  {
   "cell_type": "code",
   "execution_count": 3,
   "metadata": {
    "collapsed": false
   },
   "outputs": [],
   "source": [
    "#reddit api\n",
    "\n",
    "import praw"
   ]
  },
  {
   "cell_type": "code",
   "execution_count": 47,
   "metadata": {
    "collapsed": true
   },
   "outputs": [],
   "source": [
    "#download method\n",
    "import requests\n",
    "\n",
    "#other\n",
    "import pprint\n",
    "import re\n",
    "\n",
    "# File management\n",
    "import os.path\n",
    "import json"
   ]
  },
  {
   "cell_type": "code",
   "execution_count": 5,
   "metadata": {
    "collapsed": false
   },
   "outputs": [],
   "source": [
    "def downloadImage(imageUrl, localFileName):\n",
    "    response = requests.get(imageUrl)\n",
    "    if response.status_code == 200:\n",
    "        print('Downloading %s...' % (localFileName))\n",
    "    with open(localFileName, 'wb') as fo:\n",
    "        for chunk in response.iter_content(4096):\n",
    "            fo.write(chunk)"
   ]
  },
  {
   "cell_type": "code",
   "execution_count": 6,
   "metadata": {
    "collapsed": true
   },
   "outputs": [],
   "source": [
    "reddit = praw.Reddit(client_id='NLIznGitXU82bA',\n",
    "                     client_secret='in6SUevIRf3dLYHqu2YFH8xYAq8',\n",
    "                     password='willmarkandmatt',\n",
    "                     user_agent='script2',\n",
    "                     username='231ntest1')"
   ]
  },
  {
   "cell_type": "code",
   "execution_count": 7,
   "metadata": {
    "collapsed": false
   },
   "outputs": [
    {
     "name": "stdout",
     "output_type": "stream",
     "text": [
      "231ntest1\n"
     ]
    }
   ],
   "source": [
    "print(reddit.user.me())"
   ]
  },
  {
   "cell_type": "code",
   "execution_count": 10,
   "metadata": {
    "collapsed": false
   },
   "outputs": [
    {
     "name": "stdout",
     "output_type": "stream",
     "text": [
      "False\n"
     ]
    }
   ],
   "source": [
    "print(reddit.read_only)  # Output: False"
   ]
  },
  {
   "cell_type": "code",
   "execution_count": 9,
   "metadata": {
    "collapsed": false
   },
   "outputs": [
    {
     "name": "stdout",
     "output_type": "stream",
     "text": [
      "May 2017 Transparency Report\n",
      "West Papua delegate at U.N. Headquarters, NY.\n",
      "Best picture that will ever be taken of me\n",
      "This boxing glove looks like Trump\n",
      "INSTRUCTIONS: Get drunk. Preheat oven to 450. Place pizza on middle oven rack. Go to sleep.\n",
      "First and last day of 1st grade- she kicked cancers ass!\n",
      "Life Lesson: Never trust a drunk man walking down the street with a Baboon.\n",
      "Travel tattoo\n",
      "US Embassy in Berlin today\n",
      "A friend of mine sent me a picture of this sign from a local grocery store. Well done, Festival Foods.\n"
     ]
    }
   ],
   "source": [
    "for submission in reddit.subreddit('pics').hot(limit=10):\n",
    "    print(submission.title)"
   ]
  },
  {
   "cell_type": "code",
   "execution_count": 54,
   "metadata": {
    "collapsed": false
   },
   "outputs": [
    {
     "data": {
      "text/plain": [
       "['hello', ' yes', \" it's me\", '']"
      ]
     },
     "execution_count": 54,
     "metadata": {},
     "output_type": "execute_result"
    }
   ],
   "source": [
    "subName = \"aww\"\n",
    "substats ={\n",
    "    \"title\" : \"rarepup\",\n",
    "    \"comments\" : [\"wow\", \"such rare\", \"so pup\"]\n",
    "}\n",
    "json.dumps(substats)\n",
    "a = \"hello? yes. it's me!\"\n",
    "re.split(\"[?.!]\", a)\n",
    "\n"
   ]
  },
  {
   "cell_type": "code",
   "execution_count": 57,
   "metadata": {
    "collapsed": false
   },
   "outputs": [
    {
     "name": "stdout",
     "output_type": "stream",
     "text": [
      "<praw.models.comment_forest.CommentForest object at 0x10a0c8b50>\n",
      "https://i.redd.it/xmgq8xjsx91z.jpg\n",
      "{'comments': [u'An ex-gf of mine had a cat that always had to be touching her or myself while he slept', u'Alternate caption, \"No, I believe you should have turned left over there\"', u'Could be worse', u\"You probably shouldn't be letting her drive let alone hold your hand while she does it\", u'Think about it'], 'title': u\"She's 13yo and still makes me hold her paw while driving.\"}\n",
      "aww/6ew541.jpg\n",
      "<praw.models.comment_forest.CommentForest object at 0x1053361d0>\n",
      "http://i.imgur.com/9DFcPJ7.gifv\n",
      "{'comments': [u'I was waiting for a dog to jump in the water after it', u'porpoise with a purpose', u'\"That\\'s a huge water squirrel', u\"That dolphin looks like it's seen some stuff\", u'That square faced dolphin looks battle scarred '], 'title': u'Dolphin puts on show for dogs'}\n",
      "<praw.models.comment_forest.CommentForest object at 0x108de8710>\n",
      "https://i.redd.it/aezhrvokh91z.jpg\n",
      "{'comments': [u'Hi buddy', u'Get him a stuffed tiger as a friend', u\"that's a perfect puppy paw right there\", u'tell him I love him more', u'BIG'], 'title': u'Hi Reddit! My name is Calvin and I love you!'}\n",
      "aww/6evk8c.jpg\n",
      "<praw.models.comment_forest.CommentForest object at 0x10a271f90>\n",
      "http://i.imgur.com/FMnjB12.gifv\n",
      "{'comments': [u'Gifs that end too soon', u'My corgi pup had issues with stairs for about a day, but now he wants to run up and down every set of stairs we pass, like he is trying to show off that he has mastered them', u'Love how at the end it\\'s like \"I got this\" and then proceeds to throw itself off the second step like a maniac', u\"AND THEN HE STUCK THE LANDING AND DIDN'T GET HURT\", u'/r/gifsthatendtoosoon'], 'title': u'Corgi puppy learns to go down the stairs'}\n",
      "<praw.models.comment_forest.CommentForest object at 0x108de8650>\n",
      "http://i.imgur.com/qVjVimn.gifv\n",
      "{'comments': [u'Oh no, oh no, oh no', u'Those eyes at first looked like pure fear', u'This is my life now', u'I like how the dog just layed down', u'That dog is the real MVP '], 'title': u'Dog cold. Must cover.'}\n",
      "<praw.models.comment_forest.CommentForest object at 0x10a30e950>\n",
      "http://imgur.com/3dlr1M3.gifv\n",
      "{'comments': [u'Fun Facts: [Squirrels were considered the #1 pet in America, in the 18th century', u'[http://imgur', u'\"Ew there\\'s hair on it', u'[In reverse, it looks like the Squirrel is scavenging for food in her hair', u'I imagine this girl taking a nap on the couch and then later going to brush her hair and being a little confused when candies start falling out'], 'title': u'I must hide this cheeto for later consumption'}\n",
      "<praw.models.comment_forest.CommentForest object at 0x10713f290>\n",
      "http://i.imgur.com/SUWmQYR.gifv\n",
      "{'comments': [u'For some reason I really enjoyed the fact that the chickens are all pecking at his tags', u'Looks like the dog is wearing wire rim sunglasses', u'Looks like a Great Pyrenees ', u'If you put a beak on a potato it would be smarter than a chicken', u'\"This is fine'], 'title': u'Day 22 - they still suspect nothing'}\n",
      "<praw.models.comment_forest.CommentForest object at 0x108de8850>\n",
      "https://i.redd.it/8q6ss6ei1b1z.jpg\n",
      "{'comments': [u'Dog looking super proud in the last pic', u'No, you took 600 selfies and picked the best', u'Super cute', u'Congratulations on a huge milestone', u'wow, you can really see that dog loves you'], 'title': u'I graduate today, and my dog decided to match my facial expression in every photo. I hope he made you smile.'}\n",
      "aww/6exhlu.jpg\n",
      "<praw.models.comment_forest.CommentForest object at 0x108de8b50>\n",
      "https://i.redd.it/y16diq2cx91z.jpg\n",
      "{'comments': [u\"He's gorgeous\", u'Handsome boy', u'Those eyes are just beautiful', u'Wow is he ever beeutiful ', u'R/supermodelcats '], 'title': u\"This is Mr King Man. My best animal friend! He's half Maine Coon, half Siamese.\"}\n",
      "aww/6ew4jj.jpg\n",
      "<praw.models.comment_forest.CommentForest object at 0x108de8d10>\n",
      "https://i.redd.it/ea6n6ns2ha1z.jpg\n",
      "{'comments': [u'Is that a living organism', u'Rabbit looks huge, or cart looks tiny', u'He looks like a deranged cartoon rabbit', u'Is that a regular sized shopping cart', u'Giant angora rabbit'], 'title': u'Best ears ever!'}\n",
      "aww/6ewzgd.jpg\n"
     ]
    }
   ],
   "source": [
    "# Extract comment + image pairs from subreddit\n",
    "subName = \"aww\"\n",
    "for i, submission in enumerate(reddit.subreddit(subName).hot(limit=10)):\n",
    "    #pprint.pprint(vars(submission))\n",
    "    print(submission.comments)\n",
    "    submission.comments.replace_more(limit=0)\n",
    "#     for top_level_comment in submission.comments[:5]:\n",
    "#         # Extract first sentence of each top comment.\n",
    "#         print(re.split('[.!?]',top_level_comment.body)[0]) \n",
    "    # Filter out gifs, albums\n",
    "    print(submission.url)\n",
    "    imgAnn = {\n",
    "        \"url\" : submission.url\n",
    "        \"title\" : submission.title,\n",
    "        \"comments\" :\n",
    "            [re.split('[.!?]',top_level_comment.body)[0] \n",
    "             for top_level_comment in submission.comments[:5]]\n",
    "    }\n",
    "    print(imgAnn)\n",
    "    if submission.url.endswith(('jpg')):\n",
    "#         print(os.path.join(subName, submission.id + \".jpg\"))\n",
    "        downloadImage(submission.url, os.path.join(subName, submission.id + \".jpg\"))\n",
    "    \n",
    "        \n",
    "    \n"
   ]
  },
  {
   "cell_type": "code",
   "execution_count": 16,
   "metadata": {
    "collapsed": false
   },
   "outputs": [],
   "source": [
    "#imgur api\n",
    "\n",
    "from imgurpython import ImgurClient"
   ]
  },
  {
   "cell_type": "code",
   "execution_count": 17,
   "metadata": {
    "collapsed": true
   },
   "outputs": [],
   "source": [
    "client_id = 'b66557d3975b3dc'\n",
    "client_secret = '32ca75602eb1f201ff77ecd96c25134da143c010'\n",
    "client = ImgurClient(client_id, client_secret)"
   ]
  },
  {
   "cell_type": "code",
   "execution_count": 18,
   "metadata": {
    "collapsed": false
   },
   "outputs": [
    {
     "name": "stdout",
     "output_type": "stream",
     "text": [
      "http://imgur.com/a/8xTyQ\n",
      "http://imgur.com/a/jy3B4\n",
      "http://imgur.com/a/3eZkz\n",
      "http://i.imgur.com/BIZ9XBG.gif\n",
      "http://imgur.com/a/KCOgz\n",
      "http://imgur.com/a/Rg849\n",
      "http://imgur.com/a/Z8meC\n",
      "http://imgur.com/a/R1PKK\n",
      "http://imgur.com/a/vrL7I\n",
      "http://imgur.com/a/BRSkX\n",
      "http://i.imgur.com/vDkJGqi.png\n",
      "http://i.imgur.com/DYoFf09.png\n",
      "http://imgur.com/a/6LkE7\n",
      "http://imgur.com/a/sruzy\n",
      "http://imgur.com/a/ONiQX\n",
      "http://i.imgur.com/3dlr1M3h.gif\n",
      "http://i.imgur.com/TpHQTxw.gif\n",
      "http://i.imgur.com/FMnjB12h.gif\n",
      "http://imgur.com/a/TAf4f\n",
      "http://imgur.com/a/DP2ls\n",
      "http://imgur.com/a/ACMvx\n",
      "http://imgur.com/a/Phc5z\n",
      "http://imgur.com/a/I2EDB\n",
      "http://i.imgur.com/AS7JpWx.png\n",
      "http://imgur.com/a/d74T2\n",
      "http://imgur.com/a/xcJt7\n",
      "http://imgur.com/a/IYN96\n",
      "http://imgur.com/a/M3hdM\n",
      "http://imgur.com/a/VDHII\n",
      "http://imgur.com/a/x6pYe\n",
      "http://imgur.com/a/0H5FE\n",
      "http://imgur.com/a/ZxdN3\n",
      "http://imgur.com/a/AZefK\n",
      "http://imgur.com/a/i4ScG\n",
      "http://imgur.com/a/HHh9i\n",
      "http://imgur.com/a/2eZ9A\n",
      "http://imgur.com/a/VTiiK\n",
      "http://imgur.com/a/p4XCs\n",
      "http://imgur.com/a/ZIfQ0\n",
      "http://imgur.com/a/sorOc\n",
      "http://imgur.com/a/szX7i\n",
      "http://imgur.com/a/9bXI4\n",
      "http://imgur.com/a/jKxPY\n",
      "http://imgur.com/a/lQ4it\n",
      "http://imgur.com/a/tmwPP\n",
      "http://imgur.com/a/AghvD\n",
      "http://imgur.com/a/190QU\n",
      "http://imgur.com/a/MWAp7\n",
      "http://imgur.com/a/y9Pts\n",
      "http://imgur.com/a/2UZiS\n",
      "http://imgur.com/a/VEBRV\n",
      "http://i.imgur.com/IO7jIKZ.gif\n",
      "http://imgur.com/a/R8iNi\n",
      "http://imgur.com/a/jU62Z\n",
      "http://i.imgur.com/zdLWaUh.gif\n",
      "http://imgur.com/a/Ylbln\n",
      "http://i.imgur.com/pntosmXh.gif\n",
      "http://imgur.com/a/LpYug\n",
      "http://imgur.com/a/IuDyB\n",
      "http://i.imgur.com/Uhaxkvt.jpg\n"
     ]
    }
   ],
   "source": [
    "# Example request\n",
    "items = client.gallery()\n",
    "for item in items:\n",
    "    print(item.link)"
   ]
  },
  {
   "cell_type": "code",
   "execution_count": 19,
   "metadata": {
    "collapsed": false
   },
   "outputs": [
    {
     "name": "stdout",
     "output_type": "stream",
     "text": [
      "8xTyQ\n",
      "jy3B4\n",
      "3eZkz\n",
      "BIZ9XBG\n"
     ]
    },
    {
     "ename": "ImgurClientError",
     "evalue": "(404) Unable to find an album with the id, BIZ9XBG.",
     "output_type": "error",
     "traceback": [
      "\u001b[0;31m---------------------------------------------------------------------------\u001b[0m",
      "\u001b[0;31mImgurClientError\u001b[0m                          Traceback (most recent call last)",
      "\u001b[0;32m<ipython-input-19-bb1e71ba913f>\u001b[0m in \u001b[0;36m<module>\u001b[0;34m()\u001b[0m\n\u001b[1;32m      4\u001b[0m     \u001b[0;32mprint\u001b[0m\u001b[0;34m(\u001b[0m\u001b[0mitem\u001b[0m\u001b[0;34m.\u001b[0m\u001b[0mid\u001b[0m\u001b[0;34m)\u001b[0m\u001b[0;34m\u001b[0m\u001b[0m\n\u001b[1;32m      5\u001b[0m \u001b[0;34m\u001b[0m\u001b[0m\n\u001b[0;32m----> 6\u001b[0;31m     \u001b[0mim\u001b[0m \u001b[0;34m=\u001b[0m \u001b[0mclient\u001b[0m\u001b[0;34m.\u001b[0m\u001b[0mget_album_images\u001b[0m\u001b[0;34m(\u001b[0m\u001b[0mitem\u001b[0m\u001b[0;34m.\u001b[0m\u001b[0mid\u001b[0m\u001b[0;34m)\u001b[0m\u001b[0;34m\u001b[0m\u001b[0m\n\u001b[0m\u001b[1;32m      7\u001b[0m     \u001b[0;31m#print(im.image)\u001b[0m\u001b[0;34m\u001b[0m\u001b[0;34m\u001b[0m\u001b[0m\n",
      "\u001b[0;32m/Users/mark/anaconda/lib/python2.7/site-packages/imgurpython/client.pyc\u001b[0m in \u001b[0;36mget_album_images\u001b[0;34m(self, album_id)\u001b[0m\n\u001b[1;32m    281\u001b[0m \u001b[0;34m\u001b[0m\u001b[0m\n\u001b[1;32m    282\u001b[0m     \u001b[0;32mdef\u001b[0m \u001b[0mget_album_images\u001b[0m\u001b[0;34m(\u001b[0m\u001b[0mself\u001b[0m\u001b[0;34m,\u001b[0m \u001b[0malbum_id\u001b[0m\u001b[0;34m)\u001b[0m\u001b[0;34m:\u001b[0m\u001b[0;34m\u001b[0m\u001b[0m\n\u001b[0;32m--> 283\u001b[0;31m         \u001b[0mimages\u001b[0m \u001b[0;34m=\u001b[0m \u001b[0mself\u001b[0m\u001b[0;34m.\u001b[0m\u001b[0mmake_request\u001b[0m\u001b[0;34m(\u001b[0m\u001b[0;34m'GET'\u001b[0m\u001b[0;34m,\u001b[0m \u001b[0;34m'album/%s/images'\u001b[0m \u001b[0;34m%\u001b[0m \u001b[0malbum_id\u001b[0m\u001b[0;34m)\u001b[0m\u001b[0;34m\u001b[0m\u001b[0m\n\u001b[0m\u001b[1;32m    284\u001b[0m         \u001b[0;32mreturn\u001b[0m \u001b[0;34m[\u001b[0m\u001b[0mImage\u001b[0m\u001b[0;34m(\u001b[0m\u001b[0mimage\u001b[0m\u001b[0;34m)\u001b[0m \u001b[0;32mfor\u001b[0m \u001b[0mimage\u001b[0m \u001b[0;32min\u001b[0m \u001b[0mimages\u001b[0m\u001b[0;34m]\u001b[0m\u001b[0;34m\u001b[0m\u001b[0m\n\u001b[1;32m    285\u001b[0m \u001b[0;34m\u001b[0m\u001b[0m\n",
      "\u001b[0;32m/Users/mark/anaconda/lib/python2.7/site-packages/imgurpython/client.pyc\u001b[0m in \u001b[0;36mmake_request\u001b[0;34m(self, method, route, data, force_anon)\u001b[0m\n\u001b[1;32m    159\u001b[0m \u001b[0;34m\u001b[0m\u001b[0m\n\u001b[1;32m    160\u001b[0m         \u001b[0;32mif\u001b[0m \u001b[0;34m'data'\u001b[0m \u001b[0;32min\u001b[0m \u001b[0mresponse_data\u001b[0m \u001b[0;32mand\u001b[0m \u001b[0misinstance\u001b[0m\u001b[0;34m(\u001b[0m\u001b[0mresponse_data\u001b[0m\u001b[0;34m[\u001b[0m\u001b[0;34m'data'\u001b[0m\u001b[0;34m]\u001b[0m\u001b[0;34m,\u001b[0m \u001b[0mdict\u001b[0m\u001b[0;34m)\u001b[0m \u001b[0;32mand\u001b[0m \u001b[0;34m'error'\u001b[0m \u001b[0;32min\u001b[0m \u001b[0mresponse_data\u001b[0m\u001b[0;34m[\u001b[0m\u001b[0;34m'data'\u001b[0m\u001b[0;34m]\u001b[0m\u001b[0;34m:\u001b[0m\u001b[0;34m\u001b[0m\u001b[0m\n\u001b[0;32m--> 161\u001b[0;31m             \u001b[0;32mraise\u001b[0m \u001b[0mImgurClientError\u001b[0m\u001b[0;34m(\u001b[0m\u001b[0mresponse_data\u001b[0m\u001b[0;34m[\u001b[0m\u001b[0;34m'data'\u001b[0m\u001b[0;34m]\u001b[0m\u001b[0;34m[\u001b[0m\u001b[0;34m'error'\u001b[0m\u001b[0;34m]\u001b[0m\u001b[0;34m,\u001b[0m \u001b[0mresponse\u001b[0m\u001b[0;34m.\u001b[0m\u001b[0mstatus_code\u001b[0m\u001b[0;34m)\u001b[0m\u001b[0;34m\u001b[0m\u001b[0m\n\u001b[0m\u001b[1;32m    162\u001b[0m \u001b[0;34m\u001b[0m\u001b[0m\n\u001b[1;32m    163\u001b[0m         \u001b[0;32mreturn\u001b[0m \u001b[0mresponse_data\u001b[0m\u001b[0;34m[\u001b[0m\u001b[0;34m'data'\u001b[0m\u001b[0;34m]\u001b[0m \u001b[0;32mif\u001b[0m \u001b[0;34m'data'\u001b[0m \u001b[0;32min\u001b[0m \u001b[0mresponse_data\u001b[0m \u001b[0;32melse\u001b[0m \u001b[0mresponse_data\u001b[0m\u001b[0;34m\u001b[0m\u001b[0m\n",
      "\u001b[0;31mImgurClientError\u001b[0m: (404) Unable to find an album with the id, BIZ9XBG."
     ]
    }
   ],
   "source": [
    "# Example request\n",
    "items = client.gallery()\n",
    "for item in items:\n",
    "    print(item.id)\n",
    "    \n",
    "    im = client.get_album_images(item.id)\n",
    "    #print(im.image)"
   ]
  },
  {
   "cell_type": "code",
   "execution_count": null,
   "metadata": {
    "collapsed": false
   },
   "outputs": [],
   "source": []
  },
  {
   "cell_type": "code",
   "execution_count": null,
   "metadata": {
    "collapsed": true
   },
   "outputs": [],
   "source": []
  },
  {
   "cell_type": "code",
   "execution_count": null,
   "metadata": {
    "collapsed": false
   },
   "outputs": [],
   "source": []
  },
  {
   "cell_type": "code",
   "execution_count": null,
   "metadata": {
    "collapsed": false
   },
   "outputs": [],
   "source": []
  },
  {
   "cell_type": "code",
   "execution_count": null,
   "metadata": {
    "collapsed": true
   },
   "outputs": [],
   "source": []
  }
 ],
 "metadata": {
  "anaconda-cloud": {},
  "kernelspec": {
   "display_name": "Python [Root]",
   "language": "python",
   "name": "Python [Root]"
  },
  "language_info": {
   "codemirror_mode": {
    "name": "ipython",
    "version": 2
   },
   "file_extension": ".py",
   "mimetype": "text/x-python",
   "name": "python",
   "nbconvert_exporter": "python",
   "pygments_lexer": "ipython2",
   "version": "2.7.12"
  }
 },
 "nbformat": 4,
 "nbformat_minor": 2
}
