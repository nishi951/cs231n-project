{
 "cells": [
  {
   "cell_type": "code",
   "execution_count": 1,
   "metadata": {
    "collapsed": false
   },
   "outputs": [],
   "source": [
    "#reddit api\n",
    "\n",
    "import praw"
   ]
  },
  {
   "cell_type": "code",
   "execution_count": 20,
   "metadata": {
    "collapsed": true
   },
   "outputs": [],
   "source": [
    "#download method\n",
    "import requests\n",
    "\n",
    "#other\n",
    "import pprint\n",
    "import re\n",
    "from datetime import date\n",
    "import time\n",
    "\n",
    "# File management\n",
    "import os, os.path\n",
    "import json"
   ]
  },
  {
   "cell_type": "code",
   "execution_count": 17,
   "metadata": {
    "collapsed": false
   },
   "outputs": [],
   "source": [
    "def downloadImage(imageUrl, localFileName):\n",
    "    response = requests.get(imageUrl)\n",
    "#     print(imageUrl)\n",
    "#     if response.status_code == 200:\n",
    "#         print('Downloading %s...' % (localFileName))\n",
    "    with open(localFileName, 'wb') as fo:\n",
    "        for chunk in response.iter_content(4096):\n",
    "            fo.write(chunk)"
   ]
  },
  {
   "cell_type": "code",
   "execution_count": 4,
   "metadata": {
    "collapsed": true
   },
   "outputs": [],
   "source": [
    "#https://stackoverflow.com/questions/8032642/\n",
    "# how-to-obtain-image-size-using-standard-python-class-without-using-external-lib/20380514#20380514\n",
    "import struct\n",
    "import imghdr\n",
    "\n",
    "def get_image_size(fname):\n",
    "    '''Determine the image type of fhandle and return its size.\n",
    "    from draco'''\n",
    "    with open(fname, 'rb') as fhandle:\n",
    "        head = fhandle.read(24)\n",
    "        if len(head) != 24:\n",
    "            return\n",
    "        if imghdr.what(fname) == 'png':\n",
    "            check = struct.unpack('>i', head[4:8])[0]\n",
    "            if check != 0x0d0a1a0a:\n",
    "                return\n",
    "            width, height = struct.unpack('>ii', head[16:24])\n",
    "        elif imghdr.what(fname) == 'gif':\n",
    "            width, height = struct.unpack('<HH', head[6:10])\n",
    "        elif imghdr.what(fname) == 'jpeg':\n",
    "            try:\n",
    "                fhandle.seek(0) # Read 0xff next\n",
    "                size = 2\n",
    "                ftype = 0\n",
    "                while not 0xc0 <= ftype <= 0xcf:\n",
    "                    fhandle.seek(size, 1)\n",
    "                    byte = fhandle.read(1)\n",
    "                    while ord(byte) == 0xff:\n",
    "                        byte = fhandle.read(1)\n",
    "                    ftype = ord(byte)\n",
    "                    size = struct.unpack('>H', fhandle.read(2))[0] - 2\n",
    "                # We are at a SOFn block\n",
    "                fhandle.seek(1, 1)  # Skip `precision' byte.\n",
    "                height, width = struct.unpack('>HH', fhandle.read(4))\n",
    "            except Exception: #IGNORE:W0703\n",
    "                return\n",
    "        else:\n",
    "            return\n",
    "        return width, height"
   ]
  },
  {
   "cell_type": "code",
   "execution_count": 5,
   "metadata": {
    "collapsed": true
   },
   "outputs": [],
   "source": [
    "reddit = praw.Reddit(client_id='NLIznGitXU82bA',\n",
    "                     client_secret='in6SUevIRf3dLYHqu2YFH8xYAq8',\n",
    "                     password='willmarkandmatt',\n",
    "                     user_agent='script2',\n",
    "                     username='231ntest1')"
   ]
  },
  {
   "cell_type": "code",
   "execution_count": 6,
   "metadata": {
    "collapsed": false
   },
   "outputs": [
    {
     "name": "stdout",
     "output_type": "stream",
     "text": [
      "231ntest1\n"
     ]
    }
   ],
   "source": [
    "print(reddit.user.me())"
   ]
  },
  {
   "cell_type": "code",
   "execution_count": 7,
   "metadata": {
    "collapsed": false
   },
   "outputs": [
    {
     "name": "stdout",
     "output_type": "stream",
     "text": [
      "False\n"
     ]
    }
   ],
   "source": [
    "print(reddit.read_only)  # Output: False"
   ]
  },
  {
   "cell_type": "code",
   "execution_count": 8,
   "metadata": {
    "collapsed": false
   },
   "outputs": [
    {
     "name": "stdout",
     "output_type": "stream",
     "text": [
      "May 2017 Transparency Report\n",
      "Helping your parents with a tech problem\n",
      "Giza, Egypt.\n",
      "I want someone to look at me the way peter Dinklage looks at his wax self\n",
      "Buddy visited Trejo's new donut shop in LA yesterday (national donut day)\n",
      "Lake Bled\n",
      "we can not say we were not warned .\n",
      "Steam Powered Motorcycle. I particularly like the 'bell' behind the headlight!\n",
      "Pay it forward.\n",
      "Perfection in simplicity\n"
     ]
    }
   ],
   "source": [
    "for submission in reddit.subreddit('pics').hot(limit=10):\n",
    "    print(submission.title)"
   ]
  },
  {
   "cell_type": "code",
   "execution_count": 54,
   "metadata": {
    "collapsed": false
   },
   "outputs": [
    {
     "data": {
      "text/plain": [
       "['hello', ' yes', \" it's me\", '']"
      ]
     },
     "execution_count": 54,
     "metadata": {},
     "output_type": "execute_result"
    }
   ],
   "source": [
    "subName = \"aww\"\n",
    "substats ={\n",
    "    \"title\" : \"rarepup\",\n",
    "    \"comments\" : [\"wow\", \"such rare\", \"so pup\"]\n",
    "}\n",
    "json.dumps(substats)\n",
    "a = \"hello? yes. it's me!\"\n",
    "re.split(\"[?.!]\", a)\n",
    "\n"
   ]
  },
  {
   "cell_type": "code",
   "execution_count": 24,
   "metadata": {
    "collapsed": false
   },
   "outputs": [
    {
     "name": "stdout",
     "output_type": "stream",
     "text": [
      "Extracting data from r/rarepuppers...\n",
      "\tRetrieved 4 images from r/rarepuppers.\n",
      "\tRetrieved 16 captions from r/rarepuppers.\n",
      "Extracting data from r/aww...\n",
      "\tRetrieved 7 images from r/aww.\n",
      "\tRetrieved 35 captions from r/aww.\n",
      "Retrieved 11 total images.\n",
      "Retrieved 51 total captions\n",
      "Done. (32.4647519588 s)\n"
     ]
    }
   ],
   "source": [
    "# Extract comment + image pairs from subreddit\n",
    "\n",
    "info = {\n",
    "    \"year\" : 2017,\n",
    "    \"version\" : 0,\n",
    "    \"description\" : \"CS231N Toy Dataset\",\n",
    "    \"contributor\" : \"Mathieu Rolfo, Mark Nishimura, William Clary\",\n",
    "    \"url\" : \"\",\n",
    "    \"date_created\" : \"\",\n",
    "}\n",
    "\n",
    "unlicensed_license = {\n",
    "    \"id\" : 0,\n",
    "    \"name\" : \"Unlicensed\",\n",
    "    \"url\" : \"\",\n",
    "}\n",
    "\n",
    "licenses = [unlicensed_license]\n",
    "images = []\n",
    "annotations = []\n",
    "nposts = 10\n",
    "commentsperpost = 5\n",
    "subreddits = [\"rarepuppers\", \"aww\"]\n",
    "captionID = 0\n",
    "now = time.time()\n",
    "for subName in subreddits:\n",
    "    print(\"Extracting data from r/\" + subName + \"...\")\n",
    "    subImages = []\n",
    "    subCaptions = []\n",
    "    for submission in reddit.subreddit(subName).hot(limit=nposts):\n",
    "        #pprint.pprint(vars(submission))\n",
    "    #     print(submission.comments)\n",
    "        submission.comments.replace_more(limit=0)\n",
    "    #     for top_level_comment in submission.comments[:5]:\n",
    "    #         # Extract first sentence of each top comment.\n",
    "    #         print(re.split('[.!?]',top_level_comment.body)[0]) \n",
    "    \n",
    "        # Filter out gifs, albums\n",
    "        if not submission.url.endswith(('jpg')):\n",
    "            continue\n",
    "        # Download image and attempt to extract width and height:\n",
    "        filename = submission.id + \".jpg\"\n",
    "        downloadImage(submission.url, os.path.join(\"raw\", filename))\n",
    "        size = get_image_size(os.path.join(\"raw\", filename))\n",
    "        if size is None:\n",
    "            continue\n",
    "            \n",
    "        # Save this image\n",
    "        width, height = size\n",
    "        os.rename(os.path.join(\"raw\", filename), os.path.join(subName, filename)) # Move to new location\n",
    "\n",
    "        # Extract imageID from base 36\n",
    "        imageID = int(submission.id, 36)\n",
    "\n",
    "        # Generate Image and Annotation json\n",
    "        # Get top n comments:\n",
    "        captions = [\n",
    "            {\n",
    "                \"id\" : captionID + k,\n",
    "                \"image_id\" : imageID,\n",
    "                \"caption\" : re.split('[.!?\\n]',top_level_comment.body)[0],\n",
    "            }\n",
    "            for k, top_level_comment in enumerate(submission.comments[:commentsperpost])\n",
    "        ]\n",
    "        captionID += commentsperpost\n",
    "\n",
    "        subCaptions += captions\n",
    "        image = {\n",
    "            \"id\" : imageID,\n",
    "            \"width\" : width,\n",
    "            \"height\" : height,\n",
    "            \"file_name\" : filename,\n",
    "            \"license\" : 0,\n",
    "            \"flickr_url\" : \"\",\n",
    "            \"coco_url\" : \"\",\n",
    "            \"date_captured\" : str(date.today()),\n",
    "        }\n",
    "        subImages += [image]\n",
    "    print(\"\\tRetrieved \"+ str(len(subImages)) + \" images from r/\" + subName + \".\")\n",
    "    print(\"\\tRetrieved \"+ str(len(subCaptions)) + \" captions from r/\" + subName + \".\")\n",
    "    images+= subImages\n",
    "    annotations += subCaptions\n",
    "    \n",
    "out = {\n",
    "    \"info\" : info,\n",
    "    \"images\" : images,\n",
    "    \"annotations\" : annotations,\n",
    "    \"licenses\" : licenses\n",
    "}\n",
    "print(\"Retrieved \"+ str(len(images)) + \" total images.\")\n",
    "print(\"Retrieved \"+ str(len(annotations)) + \" total captions\")\n",
    "print(\"Done. (\" + str(time.time() - now) + \" s)\")"
   ]
  },
  {
   "cell_type": "code",
   "execution_count": 10,
   "metadata": {
    "collapsed": false
   },
   "outputs": [],
   "source": [
    "with open('captions_train.json', 'w') as outfile:\n",
    "    json.dump(out, outfile)"
   ]
  },
  {
   "cell_type": "code",
   "execution_count": 17,
   "metadata": {
    "collapsed": true
   },
   "outputs": [],
   "source": [
    "client_id = 'b66557d3975b3dc'\n",
    "client_secret = '32ca75602eb1f201ff77ecd96c25134da143c010'\n",
    "client = ImgurClient(client_id, client_secret)"
   ]
  },
  {
   "cell_type": "code",
   "execution_count": 22,
   "metadata": {
    "collapsed": false
   },
   "outputs": [
    {
     "data": {
      "text/plain": [
       "{'annotations': [{'caption': u\"I'd like 2 G O O D B O Y E S pls \",\n",
       "   'id': 0,\n",
       "   'image_id': 388133459},\n",
       "  {'caption': u'L O S S L E A D E R B O Y E S ',\n",
       "   'id': 1,\n",
       "   'image_id': 388133459},\n",
       "  {'caption': u'no fren whatr u doin', 'id': 5, 'image_id': 388171075},\n",
       "  {'caption': u'AAAAAAAAAAAAAAAAAAAAAAAAAAAAHHHHHHHHH\\n\\n-pupper probably',\n",
       "   'id': 6,\n",
       "   'image_id': 388171075},\n",
       "  {'caption': u'what is ball', 'id': 7, 'image_id': 388171075},\n",
       "  {'caption': u'halp plz', 'id': 8, 'image_id': 388171075},\n",
       "  {'caption': u'She sure looks heckin refreshed',\n",
       "   'id': 10,\n",
       "   'image_id': 388032667},\n",
       "  {'caption': u'Splish splash doggo', 'id': 11, 'image_id': 388032667},\n",
       "  {'caption': u'Serenegirle enjoys day at beach :) ',\n",
       "   'id': 12,\n",
       "   'image_id': 388032667},\n",
       "  {'caption': u'What a heckin adorable pupperina',\n",
       "   'id': 13,\n",
       "   'image_id': 388032667},\n",
       "  {'caption': u'###[that pupper is a mermaid now](#bork)',\n",
       "   'id': 14,\n",
       "   'image_id': 388032667},\n",
       "  {'caption': u'WoaH he is doin me a scare', 'id': 15, 'image_id': 388051504},\n",
       "  {'caption': u'/r/blurrypicturesofdogs', 'id': 16, 'image_id': 388051504},\n",
       "  {'caption': u'such fierce much gard doggo', 'id': 17, 'image_id': 388051504},\n",
       "  {'caption': u'O V E R B O R K E', 'id': 18, 'image_id': 388051504},\n",
       "  {'caption': u'L A N G O L I E R B O Y E', 'id': 19, 'image_id': 388051504},\n",
       "  {'caption': u'What a cutie', 'id': 20, 'image_id': 388152002},\n",
       "  {'caption': u'10/10 would date', 'id': 21, 'image_id': 388152002},\n",
       "  {'caption': u'Those eyes', 'id': 22, 'image_id': 388152002},\n",
       "  {'caption': u'3pac - All Eyez On Me', 'id': 23, 'image_id': 388152002},\n",
       "  {'caption': u'Take this thing off my head human',\n",
       "   'id': 24,\n",
       "   'image_id': 388152002},\n",
       "  {'caption': u'It appears you have a snoop dog',\n",
       "   'id': 25,\n",
       "   'image_id': 388138001},\n",
       "  {'caption': u'He\\'s even got \"sitting bricks\", what awesome owners',\n",
       "   'id': 26,\n",
       "   'image_id': 388138001},\n",
       "  {'caption': u'Dogs are nosy', 'id': 27, 'image_id': 388138001},\n",
       "  {'caption': u'http://i', 'id': 28, 'image_id': 388138001},\n",
       "  {'caption': u'Neighbor likes to be watched',\n",
       "   'id': 29,\n",
       "   'image_id': 388138001},\n",
       "  {'caption': u\"I've never wanted a box of chocolates as much as I want this\",\n",
       "   'id': 30,\n",
       "   'image_id': 388206459},\n",
       "  {'caption': u'Dibs on the one with the white mouth',\n",
       "   'id': 31,\n",
       "   'image_id': 388206459},\n",
       "  {'caption': u'So you fall in love with the puppy you want',\n",
       "   'id': 32,\n",
       "   'image_id': 388206459},\n",
       "  {'caption': u\"I'll take them all please\", 'id': 33, 'image_id': 388206459},\n",
       "  {'caption': u'There is so much cute in that truck',\n",
       "   'id': 34,\n",
       "   'image_id': 388206459},\n",
       "  {'caption': u'Gah, what a cutie', 'id': 35, 'image_id': 388055832},\n",
       "  {'caption': u'Give it another 3 weeks and he or she will be at 4',\n",
       "   'id': 36,\n",
       "   'image_id': 388055832},\n",
       "  {'caption': u'In dog world, this is like the equivalent of getting a PhD',\n",
       "   'id': 37,\n",
       "   'image_id': 388055832},\n",
       "  {'caption': u\"Who's the good dog\", 'id': 38, 'image_id': 388055832},\n",
       "  {'caption': u'Just like my ex girlfriend', 'id': 39, 'image_id': 388055832},\n",
       "  {'caption': u\"Didn't go with a ring bear\", 'id': 40, 'image_id': 388086819},\n",
       "  {'caption': u'Omg', 'id': 41, 'image_id': 388086819},\n",
       "  {'caption': u'Looks as though he has taken this role seriously',\n",
       "   'id': 42,\n",
       "   'image_id': 388086819},\n",
       "  {'caption': u'WHAT A GOOD DOG', 'id': 43, 'image_id': 388086819},\n",
       "  {'caption': u'She made that day special', 'id': 44, 'image_id': 388086819},\n",
       "  {'caption': u'This aggression will not stand',\n",
       "   'id': 45,\n",
       "   'image_id': 388137764},\n",
       "  {'caption': u'Fantastic photos', 'id': 46, 'image_id': 388137764},\n",
       "  {'caption': u'And on this day, the real scaredy cat was determined ',\n",
       "   'id': 47,\n",
       "   'image_id': 388137764},\n",
       "  {'caption': u'This is awesome', 'id': 48, 'image_id': 388137764},\n",
       "  {'caption': u'Your dog is a good bluffer ',\n",
       "   'id': 49,\n",
       "   'image_id': 388137764}],\n",
       " 'images': [{'coco_url': '',\n",
       "   'date_captured': '2017-06-03',\n",
       "   'file_name': u'6f31oz.jpg',\n",
       "   'flickr_url': '',\n",
       "   'height': 3264,\n",
       "   'id': 388133459,\n",
       "   'license': 0,\n",
       "   'width': 2448},\n",
       "  {'coco_url': '',\n",
       "   'date_captured': '2017-06-03',\n",
       "   'file_name': u'6f3upv.jpg',\n",
       "   'flickr_url': '',\n",
       "   'height': 3024,\n",
       "   'id': 388171075,\n",
       "   'license': 0,\n",
       "   'width': 4032},\n",
       "  {'coco_url': '',\n",
       "   'date_captured': '2017-06-03',\n",
       "   'file_name': u'6f0vx7.jpg',\n",
       "   'flickr_url': '',\n",
       "   'height': 1280,\n",
       "   'id': 388032667,\n",
       "   'license': 0,\n",
       "   'width': 960},\n",
       "  {'coco_url': '',\n",
       "   'date_captured': '2017-06-03',\n",
       "   'file_name': u'6f1agg.jpg',\n",
       "   'flickr_url': '',\n",
       "   'height': 960,\n",
       "   'id': 388051504,\n",
       "   'license': 0,\n",
       "   'width': 720},\n",
       "  {'coco_url': '',\n",
       "   'date_captured': '2017-06-03',\n",
       "   'file_name': u'6f3g02.jpg',\n",
       "   'flickr_url': '',\n",
       "   'height': 570,\n",
       "   'id': 388152002,\n",
       "   'license': 0,\n",
       "   'width': 500},\n",
       "  {'coco_url': '',\n",
       "   'date_captured': '2017-06-03',\n",
       "   'file_name': u'6f3575.jpg',\n",
       "   'flickr_url': '',\n",
       "   'height': 5312,\n",
       "   'id': 388138001,\n",
       "   'license': 0,\n",
       "   'width': 2988},\n",
       "  {'coco_url': '',\n",
       "   'date_captured': '2017-06-03',\n",
       "   'file_name': u'6f4m0r.jpg',\n",
       "   'flickr_url': '',\n",
       "   'height': 932,\n",
       "   'id': 388206459,\n",
       "   'license': 0,\n",
       "   'width': 1211},\n",
       "  {'coco_url': '',\n",
       "   'date_captured': '2017-06-03',\n",
       "   'file_name': u'6f1dso.jpg',\n",
       "   'flickr_url': '',\n",
       "   'height': 3264,\n",
       "   'id': 388055832,\n",
       "   'license': 0,\n",
       "   'width': 2448},\n",
       "  {'coco_url': '',\n",
       "   'date_captured': '2017-06-03',\n",
       "   'file_name': u'6f21pf.jpg',\n",
       "   'flickr_url': '',\n",
       "   'height': 2048,\n",
       "   'id': 388086819,\n",
       "   'license': 0,\n",
       "   'width': 1365},\n",
       "  {'coco_url': '',\n",
       "   'date_captured': '2017-06-03',\n",
       "   'file_name': u'6f350k.jpg',\n",
       "   'flickr_url': '',\n",
       "   'height': 1920,\n",
       "   'id': 388137764,\n",
       "   'license': 0,\n",
       "   'width': 1920}],\n",
       " 'info': {'contributor': 'Mathieu Rolfo, Mark Nishimura, William Clary',\n",
       "  'date_created': '',\n",
       "  'description': 'CS231N Toy Dataset',\n",
       "  'url': '',\n",
       "  'version': 0,\n",
       "  'year': 2017},\n",
       " 'licenses': [{'id': 0, 'name': 'Unlicensed', 'url': ''}]}"
      ]
     },
     "execution_count": 22,
     "metadata": {},
     "output_type": "execute_result"
    }
   ],
   "source": [
    "out"
   ]
  },
  {
   "cell_type": "code",
   "execution_count": null,
   "metadata": {
    "collapsed": false
   },
   "outputs": [],
   "source": []
  },
  {
   "cell_type": "code",
   "execution_count": 9,
   "metadata": {
    "collapsed": false
   },
   "outputs": [
    {
     "data": {
      "text/plain": [
       "387811297"
      ]
     },
     "execution_count": 9,
     "metadata": {},
     "output_type": "execute_result"
    }
   ],
   "source": [
    "int(\"6ew541\", 36)"
   ]
  },
  {
   "cell_type": "code",
   "execution_count": null,
   "metadata": {
    "collapsed": true
   },
   "outputs": [],
   "source": []
  },
  {
   "cell_type": "code",
   "execution_count": 23,
   "metadata": {
    "collapsed": false
   },
   "outputs": [
    {
     "data": {
      "text/plain": [
       "['hi', 'there']"
      ]
     },
     "execution_count": 23,
     "metadata": {},
     "output_type": "execute_result"
    }
   ],
   "source": [
    "re.split(\"[\\n]\", \"hi\\nthere\")"
   ]
  },
  {
   "cell_type": "code",
   "execution_count": 44,
   "metadata": {
    "collapsed": false
   },
   "outputs": [
    {
     "data": {
      "text/plain": [
       "'2017-06-03'"
      ]
     },
     "execution_count": 44,
     "metadata": {},
     "output_type": "execute_result"
    }
   ],
   "source": [
    "str(date.today())"
   ]
  },
  {
   "cell_type": "code",
   "execution_count": null,
   "metadata": {
    "collapsed": true
   },
   "outputs": [],
   "source": [
    "ann = {\n",
    "\"info\" : info,\n",
    "\"images\" : [image],\n",
    "\"annotations\" : [annotation],\n",
    "\"licenses\" : [license],\n",
    "}\n",
    "\n",
    "\n",
    "\n",
    "\n",
    "\n"
   ]
  }
 ],
 "metadata": {
  "anaconda-cloud": {},
  "kernelspec": {
   "display_name": "Python [Root]",
   "language": "python",
   "name": "Python [Root]"
  },
  "language_info": {
   "codemirror_mode": {
    "name": "ipython",
    "version": 2
   },
   "file_extension": ".py",
   "mimetype": "text/x-python",
   "name": "python",
   "nbconvert_exporter": "python",
   "pygments_lexer": "ipython2",
   "version": "2.7.12"
  }
 },
 "nbformat": 4,
 "nbformat_minor": 2
}
